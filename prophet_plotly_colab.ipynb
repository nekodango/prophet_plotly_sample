{
  "nbformat": 4,
  "nbformat_minor": 0,
  "metadata": {
    "colab": {
      "name": "prophet_quickstart.ipynb",
      "provenance": [],
      "private_outputs": true,
      "collapsed_sections": [],
      "toc_visible": true,
      "include_colab_link": true
    },
    "kernelspec": {
      "display_name": "Python 3",
      "language": "python",
      "name": "python3"
    },
    "language_info": {
      "codemirror_mode": {
        "name": "ipython",
        "version": 3
      },
      "file_extension": ".py",
      "mimetype": "text/x-python",
      "name": "python",
      "nbconvert_exporter": "python",
      "pygments_lexer": "ipython3",
      "version": "3.7.6"
    }
  },
  "cells": [
    {
      "cell_type": "markdown",
      "metadata": {
        "id": "view-in-github",
        "colab_type": "text"
      },
      "source": [
        "<a href=\"https://colab.research.google.com/github/nekodango/prophet_plotly_sample/blob/develop/prophet_plotly_colab.ipynb\" target=\"_parent\"><img src=\"https://colab.research.google.com/assets/colab-badge.svg\" alt=\"Open In Colab\"/></a>"
      ]
    },
    {
      "cell_type": "markdown",
      "metadata": {
        "id": "MMLUuk7eDTxN",
        "colab_type": "text"
      },
      "source": [
        "# 1. 通常のプロット\n",
        "https://facebook.github.io/prophet/docs/quick_start.html#python-api"
      ]
    },
    {
      "cell_type": "code",
      "metadata": {
        "colab_type": "code",
        "id": "bVUhHRh43wlq",
        "colab": {}
      },
      "source": [
        "import pandas as pd\n",
        "from fbprophet import Prophet"
      ],
      "execution_count": 0,
      "outputs": []
    },
    {
      "cell_type": "code",
      "metadata": {
        "id": "WSZgpX68EptB",
        "colab_type": "code",
        "colab": {}
      },
      "source": [
        "!wget https://raw.githubusercontent.com/facebook/prophet/master/examples/example_wp_log_peyton_manning.csv"
      ],
      "execution_count": 0,
      "outputs": []
    },
    {
      "cell_type": "code",
      "metadata": {
        "colab_type": "code",
        "id": "Us3aiwdG4DBt",
        "colab": {}
      },
      "source": [
        "df = pd.read_csv('example_wp_log_peyton_manning.csv')\n",
        "\n",
        "m = Prophet()\n",
        "m.fit(df)\n",
        "\n",
        "future = m.make_future_dataframe(periods=365)\n",
        "\n",
        "forecast = m.predict(future)"
      ],
      "execution_count": 0,
      "outputs": []
    },
    {
      "cell_type": "code",
      "metadata": {
        "colab_type": "code",
        "id": "82li1pP85FaA",
        "colab": {}
      },
      "source": [
        "fig = m.plot(forecast)"
      ],
      "execution_count": 0,
      "outputs": []
    },
    {
      "cell_type": "code",
      "metadata": {
        "colab_type": "code",
        "id": "ljf5cUil5J0v",
        "colab": {}
      },
      "source": [
        "fig = m.plot_components(forecast)"
      ],
      "execution_count": 0,
      "outputs": []
    },
    {
      "cell_type": "markdown",
      "metadata": {
        "id": "x5P6dwt3DTxZ",
        "colab_type": "text"
      },
      "source": [
        "# 2. Plotlyを用いたプロット"
      ]
    },
    {
      "cell_type": "code",
      "metadata": {
        "colab_type": "code",
        "id": "HKlvmTw26hwX",
        "colab": {}
      },
      "source": [
        "from fbprophet.plot import plot_plotly, plot_components_plotly\n",
        "import plotly.io as pio\n",
        "pio.renderers.default = \"colab\""
      ],
      "execution_count": 0,
      "outputs": []
    },
    {
      "cell_type": "code",
      "metadata": {
        "colab_type": "code",
        "id": "FchyErKD6m5d",
        "colab": {}
      },
      "source": [
        "fig = plot_plotly(m, forecast)\n",
        "fig.show()"
      ],
      "execution_count": 0,
      "outputs": []
    },
    {
      "cell_type": "code",
      "metadata": {
        "colab_type": "code",
        "id": "siCrnTaD5vvY",
        "pycharm": {
          "name": "#%%\n"
        },
        "colab": {}
      },
      "source": [
        "fig = plot_components_plotly(m, forecast) \n",
        "fig.show()"
      ],
      "execution_count": 0,
      "outputs": []
    },
    {
      "cell_type": "markdown",
      "metadata": {
        "id": "YjVyzeFpDTxh",
        "colab_type": "text"
      },
      "source": [
        "# 3. おまけ"
      ]
    },
    {
      "cell_type": "code",
      "metadata": {
        "colab_type": "code",
        "id": "AOnJGnPzDTxh",
        "colab": {}
      },
      "source": [
        "# トレンド線と変化点を表示する\n",
        "fig = plot_plotly(m, forecast, trend=True, changepoints=True)\n",
        "\n",
        "# タイトルを設定する\n",
        "fig.update_layout(title='plot_plotly')\n",
        "\n",
        "fig.show()"
      ],
      "execution_count": 0,
      "outputs": []
    }
  ]
}